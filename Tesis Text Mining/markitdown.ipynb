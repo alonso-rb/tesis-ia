{
 "cells": [
  {
   "cell_type": "code",
   "execution_count": null,
   "id": "5c7e319e",
   "metadata": {},
   "outputs": [],
   "source": [
    "from markitdown import MarkItDown\n",
    "md = MarkItDown(docintel_endpoint=\"<document_intelligence_endpoint>\")\n",
    "result = md.convert(\"test.pdf\")\n",
    "print(result.text_content)"
   ]
  }
 ],
 "metadata": {
  "kernelspec": {
   "display_name": "Python 3",
   "language": "python",
   "name": "python3"
  },
  "language_info": {
   "name": "python",
   "version": "3.13.1"
  }
 },
 "nbformat": 4,
 "nbformat_minor": 5
}
