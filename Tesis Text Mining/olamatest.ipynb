{
 "cells": [
  {
   "cell_type": "code",
   "execution_count": 1,
   "metadata": {},
   "outputs": [],
   "source": [
    "#Convert pdf to images\n",
    "from pdf2image import convert_from_path\n",
    "\n",
    "pdf_path = \"periodico.pdf\"\n",
    "#Defining poppler_path\n",
    "poppler_path = r\"C:\\poppler-24.08.0\\Library\\bin\" \n",
    "\n",
    "try:\n",
    "    images = convert_from_path(pdf_path, dpi=300, poppler_path=poppler_path)\n",
    "\n",
    "    for i, image in enumerate(images):\n",
    "        image.save(f\"page_{i + 1}.jpg\", \"JPEG\")\n",
    "\n",
    "except Exception as e:\n",
    "    print(f\"An error occurred: {e}\")"
   ]
  },
  {
   "cell_type": "code",
   "execution_count": 25,
   "metadata": {},
   "outputs": [
    {
     "name": "stdout",
     "output_type": "stream",
     "text": [
      "model='llama3.2-vision' created_at='2025-03-18T23:25:44.1618675Z' done=True done_reason='stop' total_duration=239219138900 load_duration=21125836800 prompt_eval_count=69 prompt_eval_duration=109633000000 eval_count=402 eval_duration=107634000000 message=Message(role='assistant', content='The text in the image is:\\n\\nAHUACHAPÁN\\nCELEBRARÁN SUS FESTIVIDADES\\nDespués de dos años de no realizar sus fiestas patronales debido a la pandemia del covid-19, el municipio de Turín celebrará sus festejos en honor al patrón San José. Darán inicio el sábado 12 de marzo con la elección y coronación de la reina de las festividades.\\n\\nUSULUTÁN\\nAdvierten sobre modo de estafa\\nAbordan a las víctimas en lugares públicos, les dan boletos para una supuesta rifA y les piden sus datos.\\n\\nCUSICÁN\\nSINDICATO PIDE QUITAR A GERENTE MUNICIPAL\\nDicen que no es apto para cargo. Gerente afirma se trata de asuntos personales.\\n\\nLA UNIÓN\\nCAPTURADO POR INTENTAR ASESINAR A SU PAREJA\\nFredy Yovany Hernández Maldonado fue capturado por agentes policiales en la noche del martes por la noche en el municipio de Polomos, departamento de La Unión. Acusado de intentar asesinar a su compañera de vida. Según la Policía, él hombre fue denunciado por la víctima minutos después del hecho. Hernández tenía una orden de captura emitida en 2020 y medidas de alerta para el país.\\n\\n25 AÑOS ESTÁ EN PRISION ADONIS RIVERA POR HABER SIDO HALADO CULPABLE DEL DELITO DE HOMICIDIO.\\n2016\\nFUE EL AÑO EN EL QUE LE QUISO LA VIDA A NESTOR ANDRES RIVERO PAREL, EN CANTÓN TONGOLONA, DE MONCAGUA.\\n\\nDEPARTAMENTOS', images=None, tool_calls=None)\n",
      "\n",
      "--- AI Query Execution Done ---\n",
      "Execution Time: 239.3472 seconds\n",
      "Sistema\n",
      "CPU Usage: 1.7%\n",
      "Memory Used: 13.12 GB / 15.34 GB\n",
      "\n",
      "No GPU detected.\n",
      "\n",
      "--- AI Response ---\n",
      "model='llama3.2-vision' created_at='2025-03-18T23:25:44.1618675Z' done=True done_reason='stop' total_duration=239219138900 load_duration=21125836800 prompt_eval_count=69 prompt_eval_duration=109633000000 eval_count=402 eval_duration=107634000000 message=Message(role='assistant', content='The text in the image is:\\n\\nAHUACHAPÁN\\nCELEBRARÁN SUS FESTIVIDADES\\nDespués de dos años de no realizar sus fiestas patronales debido a la pandemia del covid-19, el municipio de Turín celebrará sus festejos en honor al patrón San José. Darán inicio el sábado 12 de marzo con la elección y coronación de la reina de las festividades.\\n\\nUSULUTÁN\\nAdvierten sobre modo de estafa\\nAbordan a las víctimas en lugares públicos, les dan boletos para una supuesta rifA y les piden sus datos.\\n\\nCUSICÁN\\nSINDICATO PIDE QUITAR A GERENTE MUNICIPAL\\nDicen que no es apto para cargo. Gerente afirma se trata de asuntos personales.\\n\\nLA UNIÓN\\nCAPTURADO POR INTENTAR ASESINAR A SU PAREJA\\nFredy Yovany Hernández Maldonado fue capturado por agentes policiales en la noche del martes por la noche en el municipio de Polomos, departamento de La Unión. Acusado de intentar asesinar a su compañera de vida. Según la Policía, él hombre fue denunciado por la víctima minutos después del hecho. Hernández tenía una orden de captura emitida en 2020 y medidas de alerta para el país.\\n\\n25 AÑOS ESTÁ EN PRISION ADONIS RIVERA POR HABER SIDO HALADO CULPABLE DEL DELITO DE HOMICIDIO.\\n2016\\nFUE EL AÑO EN EL QUE LE QUISO LA VIDA A NESTOR ANDRES RIVERO PAREL, EN CANTÓN TONGOLONA, DE MONCAGUA.\\n\\nDEPARTAMENTOS', images=None, tool_calls=None)\n"
     ]
    }
   ],
   "source": [
    "import ollama\n",
    "import psutil\n",
    "import GPUtil\n",
    "import time\n",
    "import os\n",
    "\n",
    "def run_ai_query():\n",
    "    start_time = time.time()\n",
    "\n",
    "    import ollama\n",
    "\n",
    "    response = ollama.chat(\n",
    "        model='llama3.2-vision',\n",
    "        messages=[{\n",
    "            'role': 'user',\n",
    "           'content': \"\"\"Extract and return ONLY the text content from the image: verbatim, without translating, paraphrasing, or adding any explanations, notes, or formatting. The text is in Spanish, so preserve the original language and return ONLY the text in cohesive order, without any descriptions.\n",
    "           ]\n",
    "    \"\"\",\n",
    "            'images': ['page_26.jpg']\n",
    "        }]\n",
    "    )\n",
    "\n",
    "    print(response)\n",
    "\n",
    "\n",
    "    execution_time = time.time() - start_time\n",
    "    print(\"\\n--- AI Query Execution Done ---\")\n",
    "    print(f\"Execution Time: {execution_time:.4f} seconds\")\n",
    "    return response\n",
    "\n",
    "def get_gpu_info():\n",
    "    try:\n",
    "        import GPUtil\n",
    "        \n",
    "        gpus = GPUtil.getGPUs()\n",
    "        return [{\n",
    "            \"gpu_name\": gpu.name,\n",
    "            \"gpu_memory_used\": gpu.memoryUsed,  \n",
    "            \"gpu_memory_total\": gpu.memoryTotal,  \n",
    "            \"gpu_load\": gpu.load * 100,  \n",
    "            \"gpu_temperature\": gpu.temperature\n",
    "        } for gpu in gpus]\n",
    "    except Exception as e:\n",
    "        print(f\"Error al obtener información de la GPU: {e}\")\n",
    "        return None\n",
    "\n",
    "def get_system_info():\n",
    "    return {\n",
    "        \"cpu_usage\": psutil.cpu_percent(interval=1),  \n",
    "        \"memory_used\": psutil.virtual_memory().used / (1024 ** 3),  \n",
    "        \"memory_total\": psutil.virtual_memory().total / (1024 ** 3)\n",
    "    }\n",
    "\n",
    "def monitor_system():\n",
    "    system_info = get_system_info()\n",
    "    gpu_info = get_gpu_info()\n",
    "\n",
    "    print(\"Sistema\")\n",
    "    print(f\"CPU Usage: {system_info['cpu_usage']}%\")\n",
    "    print(f\"Memory Used: {system_info['memory_used']:.2f} GB / {system_info['memory_total']:.2f} GB\")\n",
    "\n",
    "    if gpu_info:\n",
    "        for i, gpu in enumerate(gpu_info):\n",
    "            print(f\"\\n--- GPU {i+1} ({gpu['gpu_name']}) ---\")\n",
    "            print(f\"GPU Load: {gpu['gpu_load']:.2f}%\")\n",
    "            print(f\"GPU Memory Used: {gpu['gpu_memory_used']} MB / {gpu['gpu_memory_total']} MB\")\n",
    "    else:\n",
    "        print(\"\\nNo GPU detected.\")\n",
    "\n",
    "\n",
    "ai_response = run_ai_query()\n",
    "\n",
    "monitor_system()\n",
    "\n",
    "print(\"\\n--- AI Response ---\")\n",
    "print(ai_response)\n"
   ]
  },
  {
   "cell_type": "code",
   "execution_count": 24,
   "metadata": {},
   "outputs": [
    {
     "name": "stdout",
     "output_type": "stream",
     "text": [
      "The following text is extracted directly from the image:\n",
      "\n",
      "[No text present]\n"
     ]
    }
   ],
   "source": [
    "message = ai_response.message.content\n",
    "print(message)\n"
   ]
  },
  {
   "cell_type": "code",
   "execution_count": 12,
   "metadata": {},
   "outputs": [
    {
     "name": "stdout",
     "output_type": "stream",
     "text": [
      "[\n",
      "  {\n",
      "    \"news title\": \"USULUTAN Advierten sobre modo de estafa\",\n",
      "    \"content\": \"Abordan a las víctimas en lugares públicos, les dan boletos para una supuesta rifia y les piden sus datos.\"\n",
      "  },\n",
      "  {\n",
      "    \"news title\": \"CUCUTA Sindicato pide quitar a gerente municipal\",\n",
      "    \"content\": \"Dicen que no es apto para cargo. Les afirma se trata de asuntos personales.\"\n",
      "  },\n",
      "  {\n",
      "    \"news title\": \"SAN SALVADOR 25 años estará en prisión por haber sido hallado culpable del delito de homicidio\",\n",
      "    \"content\": \"Fue el año en que le quitó la vida a Nestor Andrés Rivera Parada, en Canton Tongolona, de Moncagua.\"\n",
      "  }\n",
      "]\n"
     ]
    }
   ],
   "source": [
    "start_char = \"[\"\n",
    "end_char = \"]\"\n",
    "\n",
    "#Get AI response\n",
    "message = ai_response.message.content\n",
    "\n",
    "#Clean AI Response\n",
    "start_index = message.find(start_char)\n",
    "end_index = message.find(end_char)+1\n",
    "json_message = message[start_index:end_index]\n",
    "\n",
    "print(json_message)\n",
    "#print(message)"
   ]
  },
  {
   "cell_type": "code",
   "execution_count": 13,
   "metadata": {},
   "outputs": [
    {
     "name": "stdout",
     "output_type": "stream",
     "text": [
      "El archivo JSON se ha guardado exitosamente.\n"
     ]
    }
   ],
   "source": [
    "import json\n",
    "\n",
    "noticias = json.loads(json_message)\n",
    "with open(\"noticias.json\", \"w\", encoding=\"utf-8\") as f:\n",
    "    json.dump(noticias, f, ensure_ascii=False, indent=4)\n",
    "\n",
    "print(\"El archivo JSON se ha guardado exitosamente.\")"
   ]
  }
 ],
 "metadata": {
  "kernelspec": {
   "display_name": "Python 3",
   "language": "python",
   "name": "python3"
  },
  "language_info": {
   "codemirror_mode": {
    "name": "ipython",
    "version": 3
   },
   "file_extension": ".py",
   "mimetype": "text/x-python",
   "name": "python",
   "nbconvert_exporter": "python",
   "pygments_lexer": "ipython3",
   "version": "3.13.1"
  }
 },
 "nbformat": 4,
 "nbformat_minor": 2
}
